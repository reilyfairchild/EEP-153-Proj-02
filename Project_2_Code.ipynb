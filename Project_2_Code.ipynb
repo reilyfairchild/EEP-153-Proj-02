{
 "cells": [
  {
   "cell_type": "markdown",
   "id": "0495936a-0f5f-46ce-bf81-02659bc972a1",
   "metadata": {},
   "source": [
    "# **`Project 2: Team Thomas Allinson`**"
   ]
  },
  {
   "cell_type": "markdown",
   "id": "8fcc0140-ecc7-4bd6-8b83-768500af9f8f",
   "metadata": {},
   "source": [
    "### **Objective**: Analyze the comparative costs of a vegan diet versus an omnivorous diet within the American population, with a specific focus on their environmental impact."
   ]
  },
  {
   "cell_type": "markdown",
   "id": "6f6033b1-929f-4ede-b223-f890eb789060",
   "metadata": {},
   "source": [
    "#### Group Members:\n",
    "> Johann: johann.dicken@berkeley.edu <br>\n",
    "> Laure: laureho@berkeley.edu <br>\n",
    "> Reily: reilyjean@berkeley.edu <br>\n",
    "> Carmen: carmenvega@berkeley.edu <br>\n",
    "> Steven: k1519632@berkeley.edu <br>"
   ]
  },
  {
   "cell_type": "markdown",
   "id": "d75f2e3c-9e6b-430e-a57c-0fc23f18d14b",
   "metadata": {},
   "source": [
    "### **[A]: Description of population of interest**"
   ]
  },
  {
   "cell_type": "markdown",
   "id": "a3bd20bb-5d45-47e9-baa7-0ec11611511e",
   "metadata": {},
   "source": [
    "...descripition here..."
   ]
  },
  {
   "cell_type": "markdown",
   "id": "154e2b69-bf6c-47be-ac5d-f3835f8ca47b",
   "metadata": {},
   "source": [
    "### **[A]: Dietary Reference Intakes**"
   ]
  },
  {
   "cell_type": "code",
   "execution_count": 10,
   "id": "11fabb95-22a8-49ed-b9c1-2118b7c84967",
   "metadata": {},
   "outputs": [],
   "source": [
    "import pandas as pd\n",
    "import numpy as np"
   ]
  },
  {
   "cell_type": "code",
   "execution_count": 23,
   "id": "3672f7fb-cee8-4d25-aa3a-3d590d486e66",
   "metadata": {},
   "outputs": [
    {
     "data": {
      "text/html": [
       "<div>\n",
       "<style scoped>\n",
       "    .dataframe tbody tr th:only-of-type {\n",
       "        vertical-align: middle;\n",
       "    }\n",
       "\n",
       "    .dataframe tbody tr th {\n",
       "        vertical-align: top;\n",
       "    }\n",
       "\n",
       "    .dataframe thead th {\n",
       "        text-align: right;\n",
       "    }\n",
       "</style>\n",
       "<table border=\"1\" class=\"dataframe\">\n",
       "  <thead>\n",
       "    <tr style=\"text-align: right;\">\n",
       "      <th></th>\n",
       "      <th>Nutrition</th>\n",
       "      <th>Source</th>\n",
       "      <th>C 1-3</th>\n",
       "      <th>F 4-8</th>\n",
       "      <th>M 4-8</th>\n",
       "      <th>F 9-13</th>\n",
       "      <th>M 9-13</th>\n",
       "      <th>F 14-18</th>\n",
       "      <th>M 14-18</th>\n",
       "      <th>F 19-30</th>\n",
       "      <th>M 19-30</th>\n",
       "      <th>F 31-50</th>\n",
       "      <th>M 31-50</th>\n",
       "      <th>F 51+</th>\n",
       "      <th>M 51+</th>\n",
       "    </tr>\n",
       "  </thead>\n",
       "  <tbody>\n",
       "    <tr>\n",
       "      <th>0</th>\n",
       "      <td>Energy</td>\n",
       "      <td>---</td>\n",
       "      <td>1000.0</td>\n",
       "      <td>1200.0</td>\n",
       "      <td>1400.0</td>\n",
       "      <td>1600.0</td>\n",
       "      <td>1800.0</td>\n",
       "      <td>1800.0</td>\n",
       "      <td>2200.0</td>\n",
       "      <td>2000.0</td>\n",
       "      <td>2400.0</td>\n",
       "      <td>1800.0</td>\n",
       "      <td>2200.0</td>\n",
       "      <td>1600.0</td>\n",
       "      <td>2000.0</td>\n",
       "    </tr>\n",
       "    <tr>\n",
       "      <th>1</th>\n",
       "      <td>Protein</td>\n",
       "      <td>RDA</td>\n",
       "      <td>13.0</td>\n",
       "      <td>19.0</td>\n",
       "      <td>19.0</td>\n",
       "      <td>34.0</td>\n",
       "      <td>34.0</td>\n",
       "      <td>46.0</td>\n",
       "      <td>52.0</td>\n",
       "      <td>46.0</td>\n",
       "      <td>56.0</td>\n",
       "      <td>46.0</td>\n",
       "      <td>56.0</td>\n",
       "      <td>46.0</td>\n",
       "      <td>56.0</td>\n",
       "    </tr>\n",
       "    <tr>\n",
       "      <th>2</th>\n",
       "      <td>Fiber, total dietary</td>\n",
       "      <td>---</td>\n",
       "      <td>14.0</td>\n",
       "      <td>16.8</td>\n",
       "      <td>19.6</td>\n",
       "      <td>22.4</td>\n",
       "      <td>25.2</td>\n",
       "      <td>25.2</td>\n",
       "      <td>30.8</td>\n",
       "      <td>28.0</td>\n",
       "      <td>33.6</td>\n",
       "      <td>25.2</td>\n",
       "      <td>30.8</td>\n",
       "      <td>22.4</td>\n",
       "      <td>28.0</td>\n",
       "    </tr>\n",
       "    <tr>\n",
       "      <th>3</th>\n",
       "      <td>Folate, DFE</td>\n",
       "      <td>RDA</td>\n",
       "      <td>150.0</td>\n",
       "      <td>200.0</td>\n",
       "      <td>200.0</td>\n",
       "      <td>300.0</td>\n",
       "      <td>300.0</td>\n",
       "      <td>400.0</td>\n",
       "      <td>400.0</td>\n",
       "      <td>400.0</td>\n",
       "      <td>400.0</td>\n",
       "      <td>400.0</td>\n",
       "      <td>400.0</td>\n",
       "      <td>400.0</td>\n",
       "      <td>400.0</td>\n",
       "    </tr>\n",
       "    <tr>\n",
       "      <th>4</th>\n",
       "      <td>Calcium, Ca</td>\n",
       "      <td>RDA</td>\n",
       "      <td>700.0</td>\n",
       "      <td>1000.0</td>\n",
       "      <td>1000.0</td>\n",
       "      <td>1300.0</td>\n",
       "      <td>1300.0</td>\n",
       "      <td>1300.0</td>\n",
       "      <td>1300.0</td>\n",
       "      <td>1000.0</td>\n",
       "      <td>1000.0</td>\n",
       "      <td>1000.0</td>\n",
       "      <td>1000.0</td>\n",
       "      <td>1200.0</td>\n",
       "      <td>1000.0</td>\n",
       "    </tr>\n",
       "  </tbody>\n",
       "</table>\n",
       "</div>"
      ],
      "text/plain": [
       "              Nutrition Source   C 1-3   F 4-8   M 4-8  F 9-13  M 9-13  \\\n",
       "0                Energy    ---  1000.0  1200.0  1400.0  1600.0  1800.0   \n",
       "1               Protein    RDA    13.0    19.0    19.0    34.0    34.0   \n",
       "2  Fiber, total dietary    ---    14.0    16.8    19.6    22.4    25.2   \n",
       "3           Folate, DFE    RDA   150.0   200.0   200.0   300.0   300.0   \n",
       "4           Calcium, Ca    RDA   700.0  1000.0  1000.0  1300.0  1300.0   \n",
       "\n",
       "   F 14-18  M 14-18  F 19-30  M 19-30  F 31-50  M 31-50   F 51+   M 51+  \n",
       "0   1800.0   2200.0   2000.0   2400.0   1800.0   2200.0  1600.0  2000.0  \n",
       "1     46.0     52.0     46.0     56.0     46.0     56.0    46.0    56.0  \n",
       "2     25.2     30.8     28.0     33.6     25.2     30.8    22.4    28.0  \n",
       "3    400.0    400.0    400.0    400.0    400.0    400.0   400.0   400.0  \n",
       "4   1300.0   1300.0   1000.0   1000.0   1000.0   1000.0  1200.0  1000.0  "
      ]
     },
     "execution_count": 23,
     "metadata": {},
     "output_type": "execute_result"
    }
   ],
   "source": [
    "# Import Dietary Requirements spreadsheet data as a pd.DataFrame\n",
    "df = pd.read_csv('Dietary_Requirements.csv')\n",
    "df.head()"
   ]
  },
  {
   "cell_type": "markdown",
   "id": "ccb6c227-6929-45c2-a670-cda9d17035e3",
   "metadata": {},
   "source": [
    "Dietary function takes 2 arguments: `age`, a positive integer, and `sex`, a string (not case-senstitive) with the classification of male, female, or child."
   ]
  },
  {
   "cell_type": "code",
   "execution_count": 26,
   "id": "0e465b8f-b95b-414b-b7b6-1954f406f99d",
   "metadata": {},
   "outputs": [],
   "source": [
    "def dietary_ref(age, sex):\n",
    "\n",
    "    # Validate age input\n",
    "    if not isinstance(age, int) or age <= 0:\n",
    "        return \"Incorrect age input. Please enter a positive integer for the age.\"\n",
    "    \n",
    "    # Normalize and validate sex input\n",
    "    sex = sex.lower()\n",
    "    if sex not in ['male', 'female', 'child']:\n",
    "        return \"Incorrect sex input. Input must be Male, Female, or Child.\"\n",
    "    \n",
    "    # Determine the appropriate column based on age and sex\n",
    "    if sex == 'child':\n",
    "        if age <= 3:\n",
    "            col_name = 'C 1-3'\n",
    "        elif age <= 8:\n",
    "            col_name = 'C 4-8'\n",
    "        else:\n",
    "            return \"Age out of range for child category.\"\n",
    "    else:\n",
    "        if age <= 8:\n",
    "            col_name = f\"{'F' if sex == 'female' else 'M'} 4-8\"\n",
    "        elif age <= 13:\n",
    "            col_name = f\"{'F' if sex == 'female' else 'M'} 9-13\"\n",
    "        elif age <= 18:\n",
    "            col_name = f\"{'F' if sex == 'female' else 'M'} 14-18\"\n",
    "        elif age <= 30:\n",
    "            col_name = f\"{'F' if sex == 'female' else 'M'} 19-30\"\n",
    "        elif age <= 50:\n",
    "            col_name = f\"{'F' if sex == 'female' else 'M'} 31-50\"\n",
    "        else:\n",
    "            col_name = f\"{'F' if sex == 'female' else 'M'} 51+\"\n",
    "    \n",
    "    # Extract and return the relevant nutrient recommendations\n",
    "    if col_name in df.columns:\n",
    "        return df[['Nutrition', col_name]].set_index('Nutrition')[col_name]\n",
    "    else:\n",
    "        return \"Matching column not found in DataFrame. Check the column names.\""
   ]
  },
  {
   "cell_type": "code",
   "execution_count": 27,
   "id": "c97805ee-8ad2-4106-9481-e4254ba98b41",
   "metadata": {},
   "outputs": [
    {
     "data": {
      "text/plain": [
       "Nutrition\n",
       "Energy                            2200.0\n",
       "Protein                             52.0\n",
       "Fiber, total dietary                30.8\n",
       "Folate, DFE                        400.0\n",
       "Calcium, Ca                       1300.0\n",
       "Carbohydrate, by difference        130.0\n",
       "Iron, Fe                            11.0\n",
       "Magnesium, Mg                      410.0\n",
       "Niacin                              16.0\n",
       "Phosphorus, P                     1250.0\n",
       "Potassium, K                      4700.0\n",
       "Riboflavin                           1.3\n",
       "Thiamin                              1.2\n",
       "Vitamin A, RAE                     900.0\n",
       "Vitamin B-12                         2.4\n",
       "Vitamin B-6                          1.3\n",
       "Vitamin C, total ascorbic acid      75.0\n",
       "Vitamin E (alpha-tocopherol)        15.0\n",
       "Vitamin K (phylloquinone)           75.0\n",
       "Zinc, Zn                            11.0\n",
       "Name: M 14-18, dtype: float64"
      ]
     },
     "execution_count": 27,
     "metadata": {},
     "output_type": "execute_result"
    }
   ],
   "source": [
    "# Example usage\n",
    "dietary_ref(15, 'Male')"
   ]
  },
  {
   "cell_type": "markdown",
   "id": "fbf08bd5-e380-4e46-9f32-c61230b173c9",
   "metadata": {},
   "source": [
    "### **[A]: Data on prices for different foods**"
   ]
  },
  {
   "cell_type": "markdown",
   "id": "fcc97147-ec15-4b3a-8349-5ef6255a9285",
   "metadata": {},
   "source": [
    "Let's import our google spreadsheet as a pd.DataFrame here!"
   ]
  },
  {
   "cell_type": "code",
   "execution_count": 28,
   "id": "da801633-544c-4d7b-b621-052065019e61",
   "metadata": {},
   "outputs": [],
   "source": [
    "# prices_df = pd.read_csv('file_name.csv')\n",
    "# prices_df"
   ]
  },
  {
   "cell_type": "markdown",
   "id": "748a6a8e-b0f3-4cb0-9a34-ee8e67d0308f",
   "metadata": {},
   "source": [
    "### **[A]: Nutritional content of different foods**"
   ]
  },
  {
   "cell_type": "markdown",
   "id": "07129f31-f0ed-4098-b71e-49fa03fe6871",
   "metadata": {},
   "source": [
    "..."
   ]
  },
  {
   "cell_type": "markdown",
   "id": "f9f865ce-03a2-4e4b-94eb-cfb74d9c8101",
   "metadata": {},
   "source": [
    "### **[A]: Solution**"
   ]
  },
  {
   "cell_type": "markdown",
   "id": "f287400f-273d-47f3-8b99-603c7173662b",
   "metadata": {},
   "source": [
    "I think it'd be cool to make a graph for this :) For example, an overlying bar graph with different colors for sex, going across the x-axis with ages, y-axis being minimum diet cost."
   ]
  },
  {
   "cell_type": "code",
   "execution_count": 29,
   "id": "cb2604ca-12d7-4abc-b91a-13342457aee0",
   "metadata": {},
   "outputs": [],
   "source": [
    "# Code here"
   ]
  },
  {
   "cell_type": "markdown",
   "id": "a3fc38c8-c7fd-4efa-a3cf-6e45d1fbc63d",
   "metadata": {},
   "source": [
    "### **[B]: Is your solution edible?**"
   ]
  },
  {
   "cell_type": "markdown",
   "id": "0ca954d9-8bda-4af8-b3da-ecb39942bf67",
   "metadata": {},
   "source": [
    "..."
   ]
  },
  {
   "cell_type": "markdown",
   "id": "d7fb2a44-6a28-4f10-b42c-fc3329c089b0",
   "metadata": {},
   "source": [
    "### **[B]: What is total cost for population of interest?**"
   ]
  },
  {
   "cell_type": "code",
   "execution_count": 31,
   "id": "af4a0730-b2a6-4b38-9dda-4789b63c1c26",
   "metadata": {},
   "outputs": [],
   "source": [
    "# Import wbdata\n",
    "# Code function for total cost"
   ]
  },
  {
   "cell_type": "markdown",
   "id": "ea174b7d-a97d-4656-910e-9540e593fe96",
   "metadata": {},
   "source": [
    "### **[C]: Sensitivity of Solution**"
   ]
  },
  {
   "cell_type": "code",
   "execution_count": 30,
   "id": "f73ee907-a691-4780-b922-3a20a7051d12",
   "metadata": {},
   "outputs": [],
   "source": [
    "# Code here"
   ]
  }
 ],
 "metadata": {
  "kernelspec": {
   "display_name": "Python 3 (ipykernel)",
   "language": "python",
   "name": "python3"
  },
  "language_info": {
   "codemirror_mode": {
    "name": "ipython",
    "version": 3
   },
   "file_extension": ".py",
   "mimetype": "text/x-python",
   "name": "python",
   "nbconvert_exporter": "python",
   "pygments_lexer": "ipython3",
   "version": "3.11.11"
  }
 },
 "nbformat": 4,
 "nbformat_minor": 5
}
